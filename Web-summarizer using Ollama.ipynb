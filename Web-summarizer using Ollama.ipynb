{
 "cells": [
  {
   "cell_type": "code",
   "execution_count": 8,
   "id": "53b2e8d1-49da-4dea-9618-bc661bff00c7",
   "metadata": {},
   "outputs": [],
   "source": [
    "import requests\n",
    "from bs4 import BeautifulSoup\n",
    "from IPython.display import Markdown, display"
   ]
  },
  {
   "cell_type": "code",
   "execution_count": 9,
   "id": "39cd0f0d-cd8e-4109-9891-455a2610ce46",
   "metadata": {},
   "outputs": [],
   "source": [
    "OLLAMA_API = \"http://localhost:11434/api/chat\"\n",
    "HEADERS = {\"Content-Type\": \"application/json\"}\n",
    "MODEL = \"llama3.2\""
   ]
  },
  {
   "cell_type": "code",
   "execution_count": 10,
   "id": "cd88c89d-a9cf-4ded-982d-e90ab7d113b0",
   "metadata": {},
   "outputs": [],
   "source": [
    "# A class to represent a Webpage\n",
    "headers = {\n",
    " \"User-Agent\": \"Mozilla/5.0 (Windows NT 10.0; Win64; x64) AppleWebKit/537.36 (KHTML, like Gecko) Chrome/117.0.0.0 Safari/537.36\"\n",
    "}\n",
    "\n",
    "class Website:\n",
    "\n",
    "    def __init__(self, url):\n",
    "        \"\"\"\n",
    "        Create this Website object from the given url using the BeautifulSoup library\n",
    "        \"\"\"\n",
    "        self.url = url\n",
    "        response = requests.get(url, headers=headers)\n",
    "        print('The response is:\\n ', response)\n",
    "        soup = BeautifulSoup(response.content, 'html.parser')\n",
    "        self.title = soup.title.string if soup.title else \"No title found\"\n",
    "        #print('Soup body:/n ', soup.body)\n",
    "        for irrelevant in soup.body([\"script\", \"style\", \"img\", \"input\"]):\n",
    "            irrelevant.decompose()\n",
    "        self.text = soup.body.get_text(separator=\"\\n\", strip=True)"
   ]
  },
  {
   "cell_type": "code",
   "execution_count": 11,
   "id": "476fa8e5-7bbf-4bde-836a-b91cd4a2f9af",
   "metadata": {},
   "outputs": [],
   "source": [
    "system_prompt = \"You are an assistant that analyzes the contents of a website \\\n",
    "and provides a short summary, ignoring text that might be navigation related. \\\n",
    "Respond in markdown.\""
   ]
  },
  {
   "cell_type": "code",
   "execution_count": 12,
   "id": "bf50d413-f485-441e-8485-aa60f0857014",
   "metadata": {},
   "outputs": [],
   "source": [
    "def user_prompt_for(website):\n",
    "    user_prompt = f\"You are looking at a website titled {website.title}\"\n",
    "    user_prompt += \"\\nThe contents of this website is as follows; \\\n",
    "please provide a short summary of this website in markdown. \\\n",
    "If it includes news or announcements, then summarize these too.\\n\\n\"\n",
    "    user_prompt += website.text\n",
    "    return user_prompt"
   ]
  },
  {
   "cell_type": "code",
   "execution_count": 13,
   "id": "b43f012f-4165-46e4-b1c7-50ae9f924292",
   "metadata": {},
   "outputs": [],
   "source": [
    "def messages_for(website):\n",
    "    return [\n",
    "        {\"role\": \"system\", \"content\": system_prompt},\n",
    "        {\"role\": \"user\", \"content\": user_prompt_for(website)}\n",
    "    ]"
   ]
  },
  {
   "cell_type": "code",
   "execution_count": 15,
   "id": "1d92b42e-5787-495f-99c9-a847d24e222c",
   "metadata": {},
   "outputs": [],
   "source": [
    "import ollama\n",
    "def summarize(url):\n",
    "    website = Website(url)\n",
    "    response = ollama.chat(model=MODEL, messages=messages_for(website))\n",
    "    return response['message']['content']"
   ]
  },
  {
   "cell_type": "code",
   "execution_count": 16,
   "id": "e475b8fd-f290-4933-9870-00332efb41e8",
   "metadata": {},
   "outputs": [
    {
     "name": "stdout",
     "output_type": "stream",
     "text": [
      "The response is:\n",
      "  <Response [200]>\n"
     ]
    },
    {
     "data": {
      "text/plain": [
       "\"# PlayStation Official Site: Consoles, Games, Accessories & More\\n\\n## Overview\\n\\nThe PlayStation official website offers a wide range of gaming consoles, games, accessories, and more. The site is divided into various sections, including new releases, upcoming games, PlayStation Plus benefits, and exclusive deals.\\n\\n## News and Announcements\\n\\n*   Call of Duty: Black Ops 7 launches on November 14th.\\n*   Ghost of Yōtei Legends DLC is coming in 2026.\\n*   Lords of the Fallen II unveiled, releases 2026 on PS5.\\n*   The Blood of Dawnwalker — a story-driven, open-world RPG set in 14th-century Europe, announced.\\n*   Resident Evil Requiem, Pragmata, and Onimusha: Way of the Sword announced.\\n\\n## Games\\n\\nThe website features a vast library of games, including:\\n\\n*   **PS5 Exclusive Titles**\\n    *   Horizon Forbidden West\\n    *   Gran Turismo 7\\n    *   Marvel's Spider Man Miles Morales\\n    *   Ratchet & Clank: Rift Apart\\n*   **PS4 and PS5 Games**\\n    *   Death Stranding Director's Cut\\n    *   Demon's Souls\\n    *   Sackboy: A Big Adventure\\n*   **Upcoming Games**\\n    *   Where Winds Meet\\n    *   Call of Duty: Black Ops 6\\n    *   Monster Hunter Wilds\\n\\n## PlayStation Plus Benefits\\n\\nThe website highlights the benefits of PlayStation Plus, including:\\n\\n*   **Game Catalogue**: Access to hundreds of PS5 and PS4 games.\\n*   **Online Multiplayer**: Play with friends online.\\n*   **Exclusive Deals**: Discounts on select games.\\n\\n## Accessories and Merchandise\\n\\nThe site also offers a range of accessories and merchandise, such as:\\n\\n*   **DualSense Wireless Controller**\\n*   **PULSE Elite Wireless Headset**\\n*   **PULSE Explore Wireless Earbuds**\\n*   **PS5 Console Covers**\\n\\n## Events and Celebrations\\n\\nThe website celebrates 30 years of PlayStation with special events and a series of articles exploring the consoles, games, and greatest moments that brought gaming to life.\""
      ]
     },
     "execution_count": 16,
     "metadata": {},
     "output_type": "execute_result"
    }
   ],
   "source": [
    "summarize(\"https://www.playstation.com/en-us\")"
   ]
  },
  {
   "cell_type": "code",
   "execution_count": null,
   "id": "e9ebd08b-1d03-460a-86c3-3c2fd19a3671",
   "metadata": {},
   "outputs": [],
   "source": [
    "\n",
    "\n"
   ]
  }
 ],
 "metadata": {
  "kernelspec": {
   "display_name": "Python 3 (ipykernel)",
   "language": "python",
   "name": "python3"
  },
  "language_info": {
   "codemirror_mode": {
    "name": "ipython",
    "version": 3
   },
   "file_extension": ".py",
   "mimetype": "text/x-python",
   "name": "python",
   "nbconvert_exporter": "python",
   "pygments_lexer": "ipython3",
   "version": "3.11.13"
  }
 },
 "nbformat": 4,
 "nbformat_minor": 5
}
